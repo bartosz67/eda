{
 "cells": [
  {
   "cell_type": "code",
   "execution_count": null,
   "id": "011c1a3c-8825-4e71-a381-6a8fc9aaee82",
   "metadata": {},
   "outputs": [],
   "source": []
  },
  {
   "cell_type": "markdown",
   "id": "8073a2d0-cab5-42e1-99a0-62a363e90454",
   "metadata": {
    "jp-MarkdownHeadingCollapsed": true,
    "tags": []
   },
   "source": [
    "## City With Most Amenities"
   ]
  },
  {
   "cell_type": "markdown",
   "id": "828a5946-6cc7-4666-9240-547a5946f1bb",
   "metadata": {},
   "source": [
    "Question url: https://platform.stratascratch.com/coding/9633-city-with-most-amenities?code_type=2\n",
    "\n",
    "My solution:"
   ]
  },
  {
   "cell_type": "code",
   "execution_count": null,
   "id": "8d448c89-bf7f-46c2-bdef-c95ea866d1d5",
   "metadata": {},
   "outputs": [],
   "source": [
    "# each row is unique host\n",
    "# find city with most amenities across all their host's propertie\n",
    "    # count amenities of all chosts\n",
    "    # group by city and sum ammenities\n",
    "    # get count of most amenities\n",
    "    # select city/cities with no amenities equal to most amenities\n",
    "\n",
    "import pandas as pd\n",
    "import numpy as np\n",
    "\n",
    "df = airbnb_search_details\n",
    "df['count'] = df.amenities.str.count(',')+1\n",
    "temp = df.groupby('city', as_index=False).agg({'count':'sum'})\n",
    "most_amenities = max((temp['count']))\n",
    "temp[temp['count'] == most_amenities]['city']"
   ]
  },
  {
   "cell_type": "markdown",
   "id": "a3c33e39-a8f2-46b7-92be-644075fe1716",
   "metadata": {
    "jp-MarkdownHeadingCollapsed": true,
    "tags": []
   },
   "source": [
    "## Reviews Bins on Reviews Number"
   ]
  },
  {
   "cell_type": "markdown",
   "id": "7f652823-ce80-4fa4-a3e8-fc03f4d99ca0",
   "metadata": {},
   "source": [
    "Question url: https://platform.stratascratch.com/coding/9628-reviews-bins-on-reviews-number?code_type=2\n",
    "\n",
    "My solution:"
   ]
  },
  {
   "cell_type": "code",
   "execution_count": 1,
   "id": "e291bafa-9694-42b4-a6db-4d752efad9e5",
   "metadata": {},
   "outputs": [
    {
     "ename": "NameError",
     "evalue": "name 'airbnb_search_details' is not defined",
     "output_type": "error",
     "traceback": [
      "\u001b[1;31m---------------------------------------------------------------------------\u001b[0m",
      "\u001b[1;31mNameError\u001b[0m                                 Traceback (most recent call last)",
      "Input \u001b[1;32mIn [1]\u001b[0m, in \u001b[0;36m<cell line: 6>\u001b[1;34m()\u001b[0m\n\u001b[0;32m      3\u001b[0m \u001b[38;5;28;01mimport\u001b[39;00m \u001b[38;5;21;01mpandas\u001b[39;00m \u001b[38;5;28;01mas\u001b[39;00m \u001b[38;5;21;01mpd\u001b[39;00m\n\u001b[0;32m      4\u001b[0m \u001b[38;5;28;01mimport\u001b[39;00m \u001b[38;5;21;01mnumpy\u001b[39;00m \u001b[38;5;28;01mas\u001b[39;00m \u001b[38;5;21;01mnp\u001b[39;00m\n\u001b[1;32m----> 6\u001b[0m df \u001b[38;5;241m=\u001b[39m \u001b[43mairbnb_search_details\u001b[49m\n\u001b[0;32m      7\u001b[0m num_reviews \u001b[38;5;241m=\u001b[39m df[\u001b[38;5;124m'\u001b[39m\u001b[38;5;124mnumber_of_reviews\u001b[39m\u001b[38;5;124m'\u001b[39m]\n\u001b[0;32m      9\u001b[0m \u001b[38;5;66;03m# tp = pd.Series([5])\u001b[39;00m\n\u001b[0;32m     10\u001b[0m \u001b[38;5;66;03m# tp.between(5,15)\u001b[39;00m\n",
      "\u001b[1;31mNameError\u001b[0m: name 'airbnb_search_details' is not defined"
     ]
    }
   ],
   "source": [
    "# use select to perform categorization and add category as another column (it's much easier in sql)\n",
    "# group by category and calculate mean\n",
    "\n",
    "import pandas as pd\n",
    "import numpy as np\n",
    "\n",
    "df = airbnb_search_details\n",
    "num_reviews = df['number_of_reviews']\n",
    "\n",
    "# tp = pd.Series([5])\n",
    "# tp.between(5,15)\n",
    "\n",
    "condlist = [num_reviews == 0,\n",
    "            num_reviews.between(1,5),\n",
    "            num_reviews.between(6,15),\n",
    "            num_reviews.between(16,40),\n",
    "            num_reviews>40]\n",
    "choicelist = ['NO','FEW','SOME','MANY','A LOT']\n",
    "\n",
    "df['reviews_qualification'] = np.select(condlist,choicelist)\n",
    "\n",
    "df.groupby('reviews_qualification', as_index=False)['price'].mean()\n"
   ]
  },
  {
   "cell_type": "markdown",
   "id": "07b40bd0-4504-4e4f-9c6b-2c9ebb12b4be",
   "metadata": {
    "jp-MarkdownHeadingCollapsed": true,
    "tags": []
   },
   "source": [
    "## Host Popularity Rental Prices"
   ]
  },
  {
   "cell_type": "markdown",
   "id": "d304ac4c-672f-48b7-9a55-61bbab340c9d",
   "metadata": {},
   "source": [
    "Question url: https://platform.stratascratch.com/coding/9632-host-popularity-rental-prices?code_type=2\n",
    "\n",
    "My solution:"
   ]
  },
  {
   "cell_type": "code",
   "execution_count": null,
   "id": "336e0a1d-1632-4b48-af6a-62c1cbe8002c",
   "metadata": {},
   "outputs": [],
   "source": []
  },
  {
   "cell_type": "markdown",
   "id": "48c54fe5-5ed1-4048-8ad0-671a04d10c40",
   "metadata": {
    "tags": []
   },
   "source": [
    "## Homework Results"
   ]
  },
  {
   "cell_type": "markdown",
   "id": "50ce36d7-49f4-47b0-b032-efc342795d16",
   "metadata": {},
   "source": [
    "Question url: https://platform.stratascratch.com/coding/2075-homework-results?code_type=2\n",
    "\n",
    "My solution:"
   ]
  },
  {
   "cell_type": "code",
   "execution_count": null,
   "id": "ad5f7e01-4c3c-4190-b9f8-e49358f58161",
   "metadata": {},
   "outputs": [],
   "source": [
    "# homework table - group by student id and calcualte:\n",
    "    # mean grade\n",
    "    # no complete homeworks\n",
    "    # no given homeworkds by counting number of homework ids\n",
    "# calculate homework completino ration using previously created columns\n",
    "\n",
    "# merge with student info table to get student's first name\n",
    "\n",
    "import pandas as pd\n",
    "import numpy as np\n",
    "\n",
    "df = allstate_homework\n",
    "df['is_complete'] = df.grade.notna()\n",
    "df = df.groupby('student_id').agg(avg_grade=('grade', np.mean),\n",
    "                                  completed=('is_complete', sum),\n",
    "                                  given=('homework_id', 'count')).reset_index()\n",
    "                             \n",
    "df['avg_grade'] = df['avg_grade'].fillna(0)               \n",
    "df['ratio'] = round((df['completed'] / df['given'])*100, 2)\n",
    "df.merge(allstate_students)[['student_firstname', 'avg_grade', 'ratio']]"
   ]
  },
  {
   "cell_type": "markdown",
   "id": "3f4d713a-5811-4378-a103-8fa9b460a252",
   "metadata": {
    "jp-MarkdownHeadingCollapsed": true,
    "tags": []
   },
   "source": [
    "## Product Market Share\n"
   ]
  },
  {
   "cell_type": "markdown",
   "id": "3219f199-a633-4489-a16e-d21ef89643c2",
   "metadata": {},
   "source": [
    "Question url: https://platform.stratascratch.com/coding/2112-product-market-share?code_type=2\n",
    "\n",
    "My solution:"
   ]
  },
  {
   "cell_type": "code",
   "execution_count": 2,
   "id": "31d609a4-0ac3-4d52-be49-06ec489a2a28",
   "metadata": {},
   "outputs": [
    {
     "ename": "NameError",
     "evalue": "name 'fct_customer_sales' is not defined",
     "output_type": "error",
     "traceback": [
      "\u001b[1;31m---------------------------------------------------------------------------\u001b[0m",
      "\u001b[1;31mNameError\u001b[0m                                 Traceback (most recent call last)",
      "Input \u001b[1;32mIn [2]\u001b[0m, in \u001b[0;36m<cell line: 11>\u001b[1;34m()\u001b[0m\n\u001b[0;32m      8\u001b[0m \u001b[38;5;28;01mimport\u001b[39;00m \u001b[38;5;21;01mpandas\u001b[39;00m \u001b[38;5;28;01mas\u001b[39;00m \u001b[38;5;21;01mpd\u001b[39;00m\n\u001b[0;32m      9\u001b[0m \u001b[38;5;28;01mimport\u001b[39;00m \u001b[38;5;21;01mnumpy\u001b[39;00m \u001b[38;5;28;01mas\u001b[39;00m \u001b[38;5;21;01mnp\u001b[39;00m\n\u001b[1;32m---> 11\u001b[0m df \u001b[38;5;241m=\u001b[39m \u001b[43mfct_customer_sales\u001b[49m\u001b[38;5;241m.\u001b[39mmerge(map_customer_territory)\n\u001b[0;32m     12\u001b[0m df \u001b[38;5;241m=\u001b[39m df\u001b[38;5;241m.\u001b[39mmerge(dim_product)\n\u001b[0;32m     13\u001b[0m df \u001b[38;5;241m=\u001b[39m df[df[\u001b[38;5;124m'\u001b[39m\u001b[38;5;124morder_date\u001b[39m\u001b[38;5;124m'\u001b[39m]\u001b[38;5;241m.\u001b[39mdt\u001b[38;5;241m.\u001b[39mto_period(\u001b[38;5;124m'\u001b[39m\u001b[38;5;124mQ\u001b[39m\u001b[38;5;124m'\u001b[39m) \u001b[38;5;241m==\u001b[39m \u001b[38;5;124m'\u001b[39m\u001b[38;5;124m2021Q4\u001b[39m\u001b[38;5;124m'\u001b[39m ]\n",
      "\u001b[1;31mNameError\u001b[0m: name 'fct_customer_sales' is not defined"
     ]
    }
   ],
   "source": [
    "# market share in percentage at the prod_brand level for each territory_id\n",
    "    # Time Period Q4-2021\n",
    "    # market share = (umber of product of prod_brand sold in a territory / total number of products sold at that territory) * 100\n",
    "    # include only product brands that have at least one sale\n",
    "    # output: territory_id, prod_brand, market share in percentage\n",
    "\n",
    "\n",
    "import pandas as pd\n",
    "import numpy as np\n",
    "\n",
    "df = fct_customer_sales.merge(map_customer_territory)\n",
    "df = df.merge(dim_product)\n",
    "df = df[df['order_date'].dt.to_period('Q') == '2021Q4' ]\n",
    "\n",
    "terr_no_prod = df.groupby('territory_id', as_index=False)['order_id'].count().rename(columns={'order_id': 'no_orders'})\n",
    "\n",
    "df = df.merge(terr_no_prod)\n",
    "\n",
    "df = df.groupby(['territory_id', 'prod_brand']).agg(all_orders=('no_orders', 'first'), brand_orders=('order_id', 'count')).reset_index()\n",
    "df = df[df['all_orders']>0]\n",
    "df['market_share'] = (df['brand_orders'] / df['all_orders']) * 100\n",
    "df[['territory_id', 'prod_brand', 'market_share']]\n",
    "\n",
    "# df['order_date'].dt.to_period('Q')[0] == '2021Q2'  # Robiąc tak, dla pierwszej wartości zwróci False\n",
    "# df['order_date'].dt.to_period('Q') == '2021Q2'  # Robiąc tak, dla pierwszej wartości zwróci True"
   ]
  },
  {
   "cell_type": "markdown",
   "id": "86dbf507-5799-4ffc-a1b7-b97ded67cadd",
   "metadata": {
    "tags": []
   },
   "source": [
    "## Sales Growth per Territory\n"
   ]
  },
  {
   "cell_type": "markdown",
   "id": "791fd966-5e15-4eaa-9860-413f5e2518e8",
   "metadata": {},
   "source": [
    "Question url: https://platform.stratascratch.com/coding/2111-sales-growth-per-territory?code_type=2 \n",
    "\n",
    "My solution:"
   ]
  },
  {
   "cell_type": "code",
   "execution_count": null,
   "id": "7a196684-81dc-4b84-85d0-97022b9685a9",
   "metadata": {},
   "outputs": [],
   "source": [
    "import pandas as pd\n",
    "import numpy as np\n",
    "\n",
    "df = pd.merge(fct_customer_sales, map_customer_territory)\n",
    "df['order_date'] = df['order_date'].dt.to_period('Q')\n",
    "df = df[df['order_date'].between('2021Q3', '2021Q4')]\n",
    "df = df.groupby(['territory_id', 'order_date'], as_index=False)['order_value'].sum()\n",
    "df = df.merge(df, on='territory_id', suffixes=('_q3', '_q4'))\n",
    "df = df[df['order_date_q3'] == df['order_date_q4']-1]\n",
    "df['growth'] = ((df['order_value_q4'] - df['order_value_q3'])/df['order_value_q3'])*100\n",
    "df"
   ]
  },
  {
   "cell_type": "markdown",
   "id": "ac2237d1-bd9a-486e-8dd9-e18f6bc47e72",
   "metadata": {
    "tags": []
   },
   "source": [
    "## Player with Longest Streak\n"
   ]
  },
  {
   "cell_type": "markdown",
   "id": "b429719d-2a85-42eb-8412-ac8946817e53",
   "metadata": {},
   "source": [
    "Question url: https://platform.stratascratch.com/coding/2059-player-with-longest-streak?code_type=2\n",
    "\n",
    "My solution:"
   ]
  },
  {
   "cell_type": "code",
   "execution_count": 3,
   "id": "cb449041-9e30-42ad-bbf2-73fd2a8d257b",
   "metadata": {},
   "outputs": [
    {
     "ename": "NameError",
     "evalue": "name 'players_results' is not defined",
     "output_type": "error",
     "traceback": [
      "\u001b[1;31m---------------------------------------------------------------------------\u001b[0m",
      "\u001b[1;31mNameError\u001b[0m                                 Traceback (most recent call last)",
      "Input \u001b[1;32mIn [3]\u001b[0m, in \u001b[0;36m<cell line: 12>\u001b[1;34m()\u001b[0m\n\u001b[0;32m      9\u001b[0m           lst\u001b[38;5;241m.\u001b[39mappend(\u001b[38;5;28msum\u001b[39m(\u001b[38;5;241m1\u001b[39m \u001b[38;5;28;01mfor\u001b[39;00m _ \u001b[38;5;129;01min\u001b[39;00m streak))\n\u001b[0;32m     10\u001b[0m     \u001b[38;5;28;01mreturn\u001b[39;00m \u001b[38;5;28mmax\u001b[39m(lst)\n\u001b[1;32m---> 12\u001b[0m df \u001b[38;5;241m=\u001b[39m \u001b[43mplayers_results\u001b[49m\u001b[38;5;241m.\u001b[39msort_values([\u001b[38;5;124m'\u001b[39m\u001b[38;5;124mplayer_id\u001b[39m\u001b[38;5;124m'\u001b[39m, \u001b[38;5;124m'\u001b[39m\u001b[38;5;124mmatch_date\u001b[39m\u001b[38;5;124m'\u001b[39m])\n\u001b[0;32m     13\u001b[0m df \u001b[38;5;241m=\u001b[39m df\u001b[38;5;241m.\u001b[39mgroupby(\u001b[38;5;124m'\u001b[39m\u001b[38;5;124mplayer_id\u001b[39m\u001b[38;5;124m'\u001b[39m)\u001b[38;5;241m.\u001b[39magg(longest_streak\u001b[38;5;241m=\u001b[39m(\u001b[38;5;124m'\u001b[39m\u001b[38;5;124mmatch_result\u001b[39m\u001b[38;5;124m'\u001b[39m, get_longest_streak))\u001b[38;5;241m.\u001b[39mreset_index()\n\u001b[0;32m     14\u001b[0m df[df[\u001b[38;5;124m'\u001b[39m\u001b[38;5;124mlongest_streak\u001b[39m\u001b[38;5;124m'\u001b[39m] \u001b[38;5;241m==\u001b[39m df[\u001b[38;5;124m'\u001b[39m\u001b[38;5;124mlongest_streak\u001b[39m\u001b[38;5;124m'\u001b[39m]\u001b[38;5;241m.\u001b[39mmax()]\n",
      "\u001b[1;31mNameError\u001b[0m: name 'players_results' is not defined"
     ]
    }
   ],
   "source": [
    "import pandas as pd\n",
    "import numpy as np\n",
    "from itertools import groupby\n",
    "\n",
    "def get_longest_streak(x):\n",
    "    lst = []\n",
    "    for result, streak in groupby(x):\n",
    "        if result == 'W':\n",
    "          lst.append(sum(1 for _ in streak))\n",
    "    return max(lst)\n",
    "\n",
    "df = players_results.sort_values(['player_id', 'match_date'])\n",
    "df = df.groupby('player_id').agg(longest_streak=('match_result', get_longest_streak)).reset_index()\n",
    "df[df['longest_streak'] == df['longest_streak'].max()]"
   ]
  },
  {
   "cell_type": "markdown",
   "id": "8eae0d42-befa-45f6-a16d-02db11535c5c",
   "metadata": {
    "tags": []
   },
   "source": [
    "##"
   ]
  },
  {
   "cell_type": "markdown",
   "id": "16ca1c20-1e08-4b16-8ea2-461a644d93f9",
   "metadata": {},
   "source": [
    "Question url:\n",
    "\n",
    "My solution:"
   ]
  },
  {
   "cell_type": "code",
   "execution_count": null,
   "id": "f89ec5f0-f49e-44b2-b36d-17398e51df5b",
   "metadata": {},
   "outputs": [],
   "source": []
  }
 ],
 "metadata": {
  "kernelspec": {
   "display_name": "Python 3 (ipykernel)",
   "language": "python",
   "name": "python3"
  },
  "language_info": {
   "codemirror_mode": {
    "name": "ipython",
    "version": 3
   },
   "file_extension": ".py",
   "mimetype": "text/x-python",
   "name": "python",
   "nbconvert_exporter": "python",
   "pygments_lexer": "ipython3",
   "version": "3.10.4"
  }
 },
 "nbformat": 4,
 "nbformat_minor": 5
}
