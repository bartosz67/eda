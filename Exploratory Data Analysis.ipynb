{
 "cells": [
  {
   "cell_type": "code",
   "execution_count": 1,
   "id": "b8e58159-0692-44f4-871d-93cd81d47cc6",
   "metadata": {},
   "outputs": [],
   "source": [
    "import seaborn as sns\n",
    "import matplotlib.pyplot as plt\n",
    "import matplotlib.colors\n",
    "import pandas as pd\n",
    "import numpy as np\n",
    "import os\n",
    "import warnings\n",
    "warnings.filterwarnings(\"ignore\")"
   ]
  },
  {
   "cell_type": "code",
   "execution_count": null,
   "id": "ddfc47b1-6277-403f-a33e-6890cbc5e9f6",
   "metadata": {},
   "outputs": [],
   "source": [
    "! mkdir kaggle\n",
    "if not os.listdir('kaggle'):\n",
    "    ! kaggle datasets download -p kaggle --unzip olistbr/brazilian-ecommerce"
   ]
  },
  {
   "cell_type": "code",
   "execution_count": null,
   "id": "305581bf-97c7-402c-bbb7-b1893fab2789",
   "metadata": {},
   "outputs": [],
   "source": [
    "os.listdir('kaggle')"
   ]
  },
  {
   "cell_type": "markdown",
   "id": "ad81f998-5530-4dd2-bb15-e4ba2be008ce",
   "metadata": {
    "tags": []
   },
   "source": [
    "## Order_dataset analysis"
   ]
  },
  {
   "cell_type": "code",
   "execution_count": null,
   "id": "fa266c07-841c-4bdb-916d-bae286002dd4",
   "metadata": {},
   "outputs": [],
   "source": [
    "order = pd.read_csv('kaggle\\olist_orders_dataset.csv')"
   ]
  },
  {
   "cell_type": "code",
   "execution_count": 5,
   "id": "81c547da-4a56-4b37-9afa-c7deb0515ba7",
   "metadata": {},
   "outputs": [
    {
     "name": "stdout",
     "output_type": "stream",
     "text": [
      "<class 'pandas.core.frame.DataFrame'>\n",
      "RangeIndex: 99441 entries, 0 to 99440\n",
      "Data columns (total 8 columns):\n",
      " #   Column                         Non-Null Count  Dtype \n",
      "---  ------                         --------------  ----- \n",
      " 0   order_id                       99441 non-null  object\n",
      " 1   customer_id                    99441 non-null  object\n",
      " 2   order_status                   99441 non-null  object\n",
      " 3   order_purchase_timestamp       99441 non-null  object\n",
      " 4   order_approved_at              99281 non-null  object\n",
      " 5   order_delivered_carrier_date   97658 non-null  object\n",
      " 6   order_delivered_customer_date  96476 non-null  object\n",
      " 7   order_estimated_delivery_date  99441 non-null  object\n",
      "dtypes: object(8)\n",
      "memory usage: 6.1+ MB\n"
     ]
    }
   ],
   "source": [
    "order.info()"
   ]
  },
  {
   "cell_type": "code",
   "execution_count": 6,
   "id": "6df0024f-34f9-4661-9a53-82ac3e1a2675",
   "metadata": {},
   "outputs": [
    {
     "data": {
      "text/html": [
       "<div>\n",
       "<style scoped>\n",
       "    .dataframe tbody tr th:only-of-type {\n",
       "        vertical-align: middle;\n",
       "    }\n",
       "\n",
       "    .dataframe tbody tr th {\n",
       "        vertical-align: top;\n",
       "    }\n",
       "\n",
       "    .dataframe thead th {\n",
       "        text-align: right;\n",
       "    }\n",
       "</style>\n",
       "<table border=\"1\" class=\"dataframe\">\n",
       "  <thead>\n",
       "    <tr style=\"text-align: right;\">\n",
       "      <th></th>\n",
       "      <th>order_id</th>\n",
       "      <th>customer_id</th>\n",
       "      <th>order_status</th>\n",
       "      <th>order_purchase_timestamp</th>\n",
       "      <th>order_approved_at</th>\n",
       "      <th>order_delivered_carrier_date</th>\n",
       "      <th>order_delivered_customer_date</th>\n",
       "      <th>order_estimated_delivery_date</th>\n",
       "    </tr>\n",
       "  </thead>\n",
       "  <tbody>\n",
       "    <tr>\n",
       "      <th>0</th>\n",
       "      <td>e481f51cbdc54678b7cc49136f2d6af7</td>\n",
       "      <td>9ef432eb6251297304e76186b10a928d</td>\n",
       "      <td>delivered</td>\n",
       "      <td>2017-10-02 10:56:33</td>\n",
       "      <td>2017-10-02 11:07:15</td>\n",
       "      <td>2017-10-04 19:55:00</td>\n",
       "      <td>2017-10-10 21:25:13</td>\n",
       "      <td>2017-10-18 00:00:00</td>\n",
       "    </tr>\n",
       "    <tr>\n",
       "      <th>1</th>\n",
       "      <td>53cdb2fc8bc7dce0b6741e2150273451</td>\n",
       "      <td>b0830fb4747a6c6d20dea0b8c802d7ef</td>\n",
       "      <td>delivered</td>\n",
       "      <td>2018-07-24 20:41:37</td>\n",
       "      <td>2018-07-26 03:24:27</td>\n",
       "      <td>2018-07-26 14:31:00</td>\n",
       "      <td>2018-08-07 15:27:45</td>\n",
       "      <td>2018-08-13 00:00:00</td>\n",
       "    </tr>\n",
       "    <tr>\n",
       "      <th>2</th>\n",
       "      <td>47770eb9100c2d0c44946d9cf07ec65d</td>\n",
       "      <td>41ce2a54c0b03bf3443c3d931a367089</td>\n",
       "      <td>delivered</td>\n",
       "      <td>2018-08-08 08:38:49</td>\n",
       "      <td>2018-08-08 08:55:23</td>\n",
       "      <td>2018-08-08 13:50:00</td>\n",
       "      <td>2018-08-17 18:06:29</td>\n",
       "      <td>2018-09-04 00:00:00</td>\n",
       "    </tr>\n",
       "    <tr>\n",
       "      <th>3</th>\n",
       "      <td>949d5b44dbf5de918fe9c16f97b45f8a</td>\n",
       "      <td>f88197465ea7920adcdbec7375364d82</td>\n",
       "      <td>delivered</td>\n",
       "      <td>2017-11-18 19:28:06</td>\n",
       "      <td>2017-11-18 19:45:59</td>\n",
       "      <td>2017-11-22 13:39:59</td>\n",
       "      <td>2017-12-02 00:28:42</td>\n",
       "      <td>2017-12-15 00:00:00</td>\n",
       "    </tr>\n",
       "    <tr>\n",
       "      <th>4</th>\n",
       "      <td>ad21c59c0840e6cb83a9ceb5573f8159</td>\n",
       "      <td>8ab97904e6daea8866dbdbc4fb7aad2c</td>\n",
       "      <td>delivered</td>\n",
       "      <td>2018-02-13 21:18:39</td>\n",
       "      <td>2018-02-13 22:20:29</td>\n",
       "      <td>2018-02-14 19:46:34</td>\n",
       "      <td>2018-02-16 18:17:02</td>\n",
       "      <td>2018-02-26 00:00:00</td>\n",
       "    </tr>\n",
       "  </tbody>\n",
       "</table>\n",
       "</div>"
      ],
      "text/plain": [
       "                           order_id                       customer_id  \\\n",
       "0  e481f51cbdc54678b7cc49136f2d6af7  9ef432eb6251297304e76186b10a928d   \n",
       "1  53cdb2fc8bc7dce0b6741e2150273451  b0830fb4747a6c6d20dea0b8c802d7ef   \n",
       "2  47770eb9100c2d0c44946d9cf07ec65d  41ce2a54c0b03bf3443c3d931a367089   \n",
       "3  949d5b44dbf5de918fe9c16f97b45f8a  f88197465ea7920adcdbec7375364d82   \n",
       "4  ad21c59c0840e6cb83a9ceb5573f8159  8ab97904e6daea8866dbdbc4fb7aad2c   \n",
       "\n",
       "  order_status order_purchase_timestamp    order_approved_at  \\\n",
       "0    delivered      2017-10-02 10:56:33  2017-10-02 11:07:15   \n",
       "1    delivered      2018-07-24 20:41:37  2018-07-26 03:24:27   \n",
       "2    delivered      2018-08-08 08:38:49  2018-08-08 08:55:23   \n",
       "3    delivered      2017-11-18 19:28:06  2017-11-18 19:45:59   \n",
       "4    delivered      2018-02-13 21:18:39  2018-02-13 22:20:29   \n",
       "\n",
       "  order_delivered_carrier_date order_delivered_customer_date  \\\n",
       "0          2017-10-04 19:55:00           2017-10-10 21:25:13   \n",
       "1          2018-07-26 14:31:00           2018-08-07 15:27:45   \n",
       "2          2018-08-08 13:50:00           2018-08-17 18:06:29   \n",
       "3          2017-11-22 13:39:59           2017-12-02 00:28:42   \n",
       "4          2018-02-14 19:46:34           2018-02-16 18:17:02   \n",
       "\n",
       "  order_estimated_delivery_date  \n",
       "0           2017-10-18 00:00:00  \n",
       "1           2018-08-13 00:00:00  \n",
       "2           2018-09-04 00:00:00  \n",
       "3           2017-12-15 00:00:00  \n",
       "4           2018-02-26 00:00:00  "
      ]
     },
     "execution_count": 6,
     "metadata": {},
     "output_type": "execute_result"
    }
   ],
   "source": [
    "order.head()"
   ]
  },
  {
   "cell_type": "markdown",
   "id": "1f392401-0e64-443c-8e35-a5c238fbacd7",
   "metadata": {},
   "source": [
    "First check datatypes"
   ]
  },
  {
   "cell_type": "code",
   "execution_count": 7,
   "id": "a380f6a9-e671-4624-aefc-364bc23b92c1",
   "metadata": {},
   "outputs": [
    {
     "data": {
      "text/plain": [
       "order_id                         99441\n",
       "customer_id                      99441\n",
       "order_status                         8\n",
       "order_purchase_timestamp         98875\n",
       "order_approved_at                90733\n",
       "order_delivered_carrier_date     81018\n",
       "order_delivered_customer_date    95664\n",
       "order_estimated_delivery_date      459\n",
       "dtype: int64"
      ]
     },
     "execution_count": 7,
     "metadata": {},
     "output_type": "execute_result"
    }
   ],
   "source": [
    "order.nunique()"
   ]
  },
  {
   "cell_type": "code",
   "execution_count": 8,
   "id": "8247fc22-b13f-4f49-8b55-7a8e59327a45",
   "metadata": {},
   "outputs": [
    {
     "data": {
      "text/plain": [
       "delivered      0.970203\n",
       "shipped        0.011132\n",
       "canceled       0.006285\n",
       "unavailable    0.006124\n",
       "invoiced       0.003158\n",
       "processing     0.003027\n",
       "created        0.000050\n",
       "approved       0.000020\n",
       "Name: order_status, dtype: float64"
      ]
     },
     "execution_count": 8,
     "metadata": {},
     "output_type": "execute_result"
    }
   ],
   "source": [
    "order.order_status.value_counts(normalize=True)"
   ]
  },
  {
   "cell_type": "markdown",
   "id": "36209aaf-3b38-43da-bbb2-8bc771c0c061",
   "metadata": {},
   "source": [
    "For now we can keep order status unavailable, but it is candidate to be changed into nan.\n",
    "We will drop rows with not significant values, that do not inform us if and when an order was delivered."
   ]
  },
  {
   "cell_type": "code",
   "execution_count": 9,
   "id": "a5ded327-0a60-4a53-a476-8e5d790af39d",
   "metadata": {},
   "outputs": [],
   "source": [
    "order = order[~order.order_status.isin(['approved', 'created', 'processing', 'invoiced'])]"
   ]
  },
  {
   "cell_type": "markdown",
   "id": "7d35d4ed-2786-42d8-b2f8-cb652b4a9498",
   "metadata": {},
   "source": [
    "Transforming columns to date format and adding new column order_delay:\n",
    "* order_delay = order_delivered_customer_date - order_estimated_delivery_date\n",
    "We will also remove time, transforming it to 00:00:00 beacuse such precision is not necessary"
   ]
  },
  {
   "cell_type": "code",
   "execution_count": 10,
   "id": "eea28551-3f6f-4f98-a130-a7a4d5f72963",
   "metadata": {},
   "outputs": [],
   "source": [
    "order.order_status = order.order_status.astype('category')"
   ]
  },
  {
   "cell_type": "code",
   "execution_count": 11,
   "id": "335ca28a-13aa-4b92-983a-9c14c9bc6477",
   "metadata": {},
   "outputs": [],
   "source": [
    "order['purchased'] = order['order_purchase_timestamp'].astype('datetime64[ns]').dt.normalize()\n",
    "order['approved'] = order['order_approved_at'].astype('datetime64[ns]').dt.normalize()\n",
    "order['carrier_delivered'] = order['order_delivered_carrier_date'].astype('datetime64[ns]').dt.normalize()\n",
    "order['delivered'] = order['order_delivered_customer_date'].astype('datetime64[ns]').dt.normalize()\n",
    "order['estimated'] = order['order_estimated_delivery_date'].astype('datetime64[ns]').dt.normalize()"
   ]
  },
  {
   "cell_type": "code",
   "execution_count": 12,
   "id": "cf6711dd-506a-4e33-bb7c-2b30e9c9bfb7",
   "metadata": {},
   "outputs": [],
   "source": [
    "order = order.drop(labels=['order_estimated_delivery_date', 'order_delivered_customer_date', 'order_delivered_carrier_date', 'order_approved_at', 'order_purchase_timestamp'], axis=1)"
   ]
  },
  {
   "cell_type": "markdown",
   "id": "3f563fef-3cc5-450f-b3f8-db3b5917f1ba",
   "metadata": {},
   "source": [
    "Looks like nans are due to orders still being processed"
   ]
  },
  {
   "cell_type": "code",
   "execution_count": 13,
   "id": "174aa082-49d3-4545-b052-702cb7dae234",
   "metadata": {},
   "outputs": [
    {
     "data": {
      "text/plain": [
       "order_id                0\n",
       "customer_id             0\n",
       "order_status            0\n",
       "purchased               0\n",
       "approved              155\n",
       "carrier_delivered    1161\n",
       "delivered            2343\n",
       "estimated               0\n",
       "dtype: int64"
      ]
     },
     "execution_count": 13,
     "metadata": {},
     "output_type": "execute_result"
    }
   ],
   "source": [
    "order.isna().sum()"
   ]
  },
  {
   "cell_type": "markdown",
   "id": "57df0381-1ccc-4d08-90c3-9f6660fc2d2c",
   "metadata": {},
   "source": [
    "**Nans in approved column**\n",
    "\n",
    "Orders status is mostly cancelled. There are few that have nans in approved, but are correctly delivered, it may be logging software issue."
   ]
  },
  {
   "cell_type": "code",
   "execution_count": 14,
   "id": "6e7db961-e90d-4ec1-b707-f7874bcf3a85",
   "metadata": {},
   "outputs": [],
   "source": [
    "temp = order[order['approved'].isna()]\n",
    "temp['order_status'].value_counts()\n",
    "temp[temp['order_status']=='delivered'].head(14)\n",
    "del temp"
   ]
  },
  {
   "cell_type": "markdown",
   "id": "a8760803-a36f-4098-aa82-785dc6714954",
   "metadata": {},
   "source": [
    "**Nans in carrier_delivered column**\n",
    "\n",
    "Half of these orders are canceled\n",
    "\n",
    "Other hals has unavailable order status. These orders are only approved, but not delivered, their dates range from 2016-10-05 to 2018-08-21, so they are not in processing, maybe there were other problems with these orders, that are not registered as cancellation.\n",
    "\n",
    "There are two orders that are marked as delivered, but they look like errors in software"
   ]
  },
  {
   "cell_type": "code",
   "execution_count": 15,
   "id": "1d305c99-3b3a-41d8-beb2-9bd4b2dadb6a",
   "metadata": {},
   "outputs": [],
   "source": [
    "temp = order[order['carrier_delivered'].isna()]\n",
    "temp['order_status'].value_counts()\n",
    "temp[temp['order_status']=='unavailable'].head()#['purchased'].max()#.min()\n",
    "temp[temp['order_status']=='delivered']\n",
    "del temp"
   ]
  },
  {
   "cell_type": "markdown",
   "id": "b1d602d9-b884-40af-bedc-aef06f7a268c",
   "metadata": {},
   "source": [
    "**Nans in delivered column**\n",
    "\n",
    "There are many nans coorelated with nans in preceding columns\n",
    "\n",
    "Other orders are sent to customers, but not delivered. Looking at purchased and estimated dates distributions, these orders are not still processing. Maybe the customer has to manually confirm receipt of the order, but these orders make only 1.12% of all orders, so it is unlikely."
   ]
  },
  {
   "cell_type": "code",
   "execution_count": 16,
   "id": "ba4924de-d395-4e3c-8c8d-ba15376de282",
   "metadata": {},
   "outputs": [
    {
     "name": "stdout",
     "output_type": "stream",
     "text": [
      "1.1202299152996893\n"
     ]
    },
    {
     "data": {
      "image/png": "[encoded data removed]",
      "text/plain": [
       "<Figure size 432x288 with 1 Axes>"
      ]
     },
     "metadata": {
      "needs_background": "light"
     },
     "output_type": "display_data"
    }
   ],
   "source": [
    "temp = order[order['delivered'].isna()]\n",
    "temp = temp[temp['order_status']=='shipped']\n",
    "\n",
    "temp.groupby([temp['purchased'].dt.year, temp['purchased'].dt.month])['order_id'].count().plot(kind=\"bar\")\n",
    "print((len(temp) / len(order)) * 100)\n",
    "del temp"
   ]
  },
  {
   "cell_type": "markdown",
   "id": "c5d01b4d-c710-4a1d-8a68-15c2505f0ac3",
   "metadata": {},
   "source": [
    "Now let's analyze how long customers wait for orders compared to how long we estimate they will wait."
   ]
  },
  {
   "cell_type": "code",
   "execution_count": 17,
   "id": "9271273a-b80c-4283-aef0-5cf2ca90516f",
   "metadata": {},
   "outputs": [],
   "source": [
    "order['days_diff'] = (order['delivered']-order['estimated']).dt.days"
   ]
  },
  {
   "cell_type": "markdown",
   "id": "78ec0da4-3b47-4895-b7bf-8d9345f57d77",
   "metadata": {},
   "source": [
    "Looks like orders are delivered before estimated time. This is good, the software probably artificially inflates estimated time to be sure orders won't be late.\n",
    "However, there are significant outliers."
   ]
  },
  {
   "cell_type": "code",
   "execution_count": 18,
   "id": "30f9ffe5-b239-4c56-adb0-b149448dc88f",
   "metadata": {},
   "outputs": [
    {
     "data": {
      "text/plain": [
       "count    96476.000000\n",
       "mean       -11.876881\n",
       "std         10.183854\n",
       "min       -147.000000\n",
       "25%        -17.000000\n",
       "50%        -12.000000\n",
       "75%         -7.000000\n",
       "max        188.000000\n",
       "Name: days_diff, dtype: float64"
      ]
     },
     "execution_count": 18,
     "metadata": {},
     "output_type": "execute_result"
    }
   ],
   "source": [
    "order.days_diff.describe()"
   ]
  },
  {
   "cell_type": "markdown",
   "id": "386211ca-85ca-41d0-87c4-bc71a53ed7b8",
   "metadata": {},
   "source": [
    "Outliers look like correct rows."
   ]
  },
  {
   "cell_type": "code",
   "execution_count": 19,
   "id": "92f050dc-e519-438e-87a1-7af74dcdbbbd",
   "metadata": {},
   "outputs": [
    {
     "data": {
      "text/html": [
       "<div>\n",
       "<style scoped>\n",
       "    .dataframe tbody tr th:only-of-type {\n",
       "        vertical-align: middle;\n",
       "    }\n",
       "\n",
       "    .dataframe tbody tr th {\n",
       "        vertical-align: top;\n",
       "    }\n",
       "\n",
       "    .dataframe thead th {\n",
       "        text-align: right;\n",
       "    }\n",
       "</style>\n",
       "<table border=\"1\" class=\"dataframe\">\n",
       "  <thead>\n",
       "    <tr style=\"text-align: right;\">\n",
       "      <th></th>\n",
       "      <th>order_id</th>\n",
       "      <th>customer_id</th>\n",
       "      <th>order_status</th>\n",
       "      <th>purchased</th>\n",
       "      <th>approved</th>\n",
       "      <th>carrier_delivered</th>\n",
       "      <th>delivered</th>\n",
       "      <th>estimated</th>\n",
       "      <th>days_diff</th>\n",
       "    </tr>\n",
       "  </thead>\n",
       "  <tbody>\n",
       "    <tr>\n",
       "      <th>3202</th>\n",
       "      <td>4f39a94d6e474819d898d6df7d394996</td>\n",
       "      <td>27a410dccb395b6ce45963874d158352</td>\n",
       "      <td>delivered</td>\n",
       "      <td>2017-04-28</td>\n",
       "      <td>2017-04-29</td>\n",
       "      <td>2017-05-09</td>\n",
       "      <td>2017-09-19</td>\n",
       "      <td>2017-05-30</td>\n",
       "      <td>112.0</td>\n",
       "    </tr>\n",
       "    <tr>\n",
       "      <th>4666</th>\n",
       "      <td>b31c7dea63bb08f8cdd1ec32514ccf0b</td>\n",
       "      <td>2a351c540a0cbdd0d9c266626f6d3acc</td>\n",
       "      <td>delivered</td>\n",
       "      <td>2017-09-26</td>\n",
       "      <td>2017-09-26</td>\n",
       "      <td>2017-09-29</td>\n",
       "      <td>2018-02-05</td>\n",
       "      <td>2017-10-19</td>\n",
       "      <td>109.0</td>\n",
       "    </tr>\n",
       "    <tr>\n",
       "      <th>11399</th>\n",
       "      <td>47b40429ed8cce3aee9199792275433f</td>\n",
       "      <td>cb2caaaead400c97350c37a3fc536867</td>\n",
       "      <td>delivered</td>\n",
       "      <td>2018-01-03</td>\n",
       "      <td>2018-01-03</td>\n",
       "      <td>2018-02-06</td>\n",
       "      <td>2018-07-13</td>\n",
       "      <td>2018-01-19</td>\n",
       "      <td>175.0</td>\n",
       "    </tr>\n",
       "    <tr>\n",
       "      <th>12813</th>\n",
       "      <td>c2a550cc5f966506b717532441c221e5</td>\n",
       "      <td>fc99aeadad12e8925f558305956a08aa</td>\n",
       "      <td>delivered</td>\n",
       "      <td>2018-01-12</td>\n",
       "      <td>2018-01-13</td>\n",
       "      <td>2018-01-15</td>\n",
       "      <td>2018-05-23</td>\n",
       "      <td>2018-02-08</td>\n",
       "      <td>104.0</td>\n",
       "    </tr>\n",
       "    <tr>\n",
       "      <th>16945</th>\n",
       "      <td>cce224811ba8fea016c049693c3e0402</td>\n",
       "      <td>919dc37f94a27a8b5cac7fd53291afd4</td>\n",
       "      <td>delivered</td>\n",
       "      <td>2018-02-28</td>\n",
       "      <td>2018-02-28</td>\n",
       "      <td>2018-03-02</td>\n",
       "      <td>2018-07-26</td>\n",
       "      <td>2018-03-22</td>\n",
       "      <td>126.0</td>\n",
       "    </tr>\n",
       "  </tbody>\n",
       "</table>\n",
       "</div>"
      ],
      "text/plain": [
       "                               order_id                       customer_id  \\\n",
       "3202   4f39a94d6e474819d898d6df7d394996  27a410dccb395b6ce45963874d158352   \n",
       "4666   b31c7dea63bb08f8cdd1ec32514ccf0b  2a351c540a0cbdd0d9c266626f6d3acc   \n",
       "11399  47b40429ed8cce3aee9199792275433f  cb2caaaead400c97350c37a3fc536867   \n",
       "12813  c2a550cc5f966506b717532441c221e5  fc99aeadad12e8925f558305956a08aa   \n",
       "16945  cce224811ba8fea016c049693c3e0402  919dc37f94a27a8b5cac7fd53291afd4   \n",
       "\n",
       "      order_status  purchased   approved carrier_delivered  delivered  \\\n",
       "3202     delivered 2017-04-28 2017-04-29        2017-05-09 2017-09-19   \n",
       "4666     delivered 2017-09-26 2017-09-26        2017-09-29 2018-02-05   \n",
       "11399    delivered 2018-01-03 2018-01-03        2018-02-06 2018-07-13   \n",
       "12813    delivered 2018-01-12 2018-01-13        2018-01-15 2018-05-23   \n",
       "16945    delivered 2018-02-28 2018-02-28        2018-03-02 2018-07-26   \n",
       "\n",
       "       estimated  days_diff  \n",
       "3202  2017-05-30      112.0  \n",
       "4666  2017-10-19      109.0  \n",
       "11399 2018-01-19      175.0  \n",
       "12813 2018-02-08      104.0  \n",
       "16945 2018-03-22      126.0  "
      ]
     },
     "execution_count": 19,
     "metadata": {},
     "output_type": "execute_result"
    }
   ],
   "source": [
    "# order[order.days_diff<-100].head()\n",
    "order[order.days_diff>100].head()"
   ]
  },
  {
   "cell_type": "markdown",
   "id": "e49850af-35ef-4299-90bd-6eb98b4761fe",
   "metadata": {},
   "source": [
    "**To do**: see if anomalies in data are correlated with other variables from different tables, e.g.:\n",
    "* order.days_diff outliers and geographical location\n",
    "* "
   ]
  }
 ],
 "metadata": {
  "kernelspec": {
   "display_name": "Python 3 (ipykernel)",
   "language": "python",
   "name": "python3"
  },
  "language_info": {
   "codemirror_mode": {
    "name": "ipython",
    "version": 3
   },
   "file_extension": ".py",
   "mimetype": "text/x-python",
   "name": "python",
   "nbconvert_exporter": "python",
   "pygments_lexer": "ipython3",
   "version": "3.10.4"
  }
 },
 "nbformat": 4,
 "nbformat_minor": 5
}
